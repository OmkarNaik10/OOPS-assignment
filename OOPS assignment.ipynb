{
 "cells": [
  {
   "cell_type": "markdown",
   "metadata": {},
   "source": [
    "# Multiple Inheritence  assignment question from Lecture"
   ]
  },
  {
   "cell_type": "code",
   "execution_count": 1,
   "metadata": {},
   "outputs": [],
   "source": [
    "class A:\n",
    "    def test(self,x):\n",
    "        self.x=x\n",
    "        \n",
    "class B:\n",
    "    def test(self,y):\n",
    "        self.y=y\n",
    "        \n",
    "class C(A,B):\n",
    "    \n",
    "    def show(self,x,y):\n",
    "        A.test(self,x)\n",
    "        B.test(self,y)\n",
    "    def output(self):\n",
    "        print(\"Test of A:\",x,\"Test of B:\",y)"
   ]
  },
  {
   "cell_type": "code",
   "execution_count": 2,
   "metadata": {},
   "outputs": [
    {
     "name": "stdout",
     "output_type": "stream",
     "text": [
      "score of test A:15\n",
      "score of test B:20\n",
      "Test of A: 15 Test of B: 20\n"
     ]
    }
   ],
   "source": [
    "x=input(\"score of test A:\")\n",
    "y=input(\"score of test B:\")\n",
    "a=C()\n",
    "a.show(x,y)\n",
    "a.output()"
   ]
  },
  {
   "cell_type": "code",
   "execution_count": 3,
   "metadata": {},
   "outputs": [
    {
     "name": "stdout",
     "output_type": "stream",
     "text": [
      "enter a value:10\n",
      "enter a value:20\n",
      "Test1: 10 Test2: 20\n"
     ]
    }
   ],
   "source": [
    "\n",
    "class Test1:\n",
    "    def __init__(self,x):\n",
    "        self.x=x\n",
    "\n",
    "class Test2:\n",
    "    def __init__(self,y):\n",
    "        self.y=y\n",
    "        \n",
    "class ABC(Test1,Test2):\n",
    "    def __init__(self,x,y):\n",
    "        Test1.__init__(self,x)\n",
    "        Test2.__init__(self,y)\n",
    "    def show(self):\n",
    "        print(\"Test1:\",x,\"Test2:\",y)\n",
    "        \n",
    "        \n",
    "    \n",
    "        \n",
    "x=input(\"enter a value:\")\n",
    "y=input(\"enter a value:\")\n",
    "\n",
    "a=ABC(x,y)\n",
    "a.show()      "
   ]
  },
  {
   "cell_type": "code",
   "execution_count": null,
   "metadata": {},
   "outputs": [],
   "source": []
  }
 ],
 "metadata": {
  "kernelspec": {
   "display_name": "Python 3",
   "language": "python",
   "name": "python3"
  },
  "language_info": {
   "codemirror_mode": {
    "name": "ipython",
    "version": 3
   },
   "file_extension": ".py",
   "mimetype": "text/x-python",
   "name": "python",
   "nbconvert_exporter": "python",
   "pygments_lexer": "ipython3",
   "version": "3.6.8"
  }
 },
 "nbformat": 4,
 "nbformat_minor": 2
}
